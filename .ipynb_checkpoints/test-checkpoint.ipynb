{
 "metadata": {
  "language_info": {
   "codemirror_mode": {
    "name": "ipython",
    "version": 3
   },
   "file_extension": ".py",
   "mimetype": "text/x-python",
   "name": "python",
   "nbconvert_exporter": "python",
   "pygments_lexer": "ipython3",
   "version": "3.8.5"
  },
  "orig_nbformat": 2,
  "kernelspec": {
   "name": "python385jvsc74a57bd0dae3996c502077487f069397b21b8b64e85f8a71e04443a5ae1934dff4ea5ae6",
   "display_name": "Python 3.8.5 64-bit ('base': conda)"
  },
  "metadata": {
   "interpreter": {
    "hash": "dae3996c502077487f069397b21b8b64e85f8a71e04443a5ae1934dff4ea5ae6"
   }
  }
 },
 "nbformat": 4,
 "nbformat_minor": 2,
 "cells": [
  {
   "cell_type": "code",
   "execution_count": 1,
   "metadata": {},
   "outputs": [],
   "source": [
    "import sys\n",
    "import json\n",
    "import requests\n",
    "import numpy as np\n",
    "from PIL import Image\n",
    "\n",
    "# Функция для изменения размера изображения\n",
    "def resize(img, new_size):\n",
    "    img = Image.fromarray(img)\n",
    "    img = img.resize(new_size)\n",
    "    return np.array(img)\n",
    "\n",
    "\n",
    "# Функция для подготовки одного изображения к инференсу\n",
    "# Приведение в нужный диапазон и размер\n",
    "def prepare_digit(img):\n",
    "    img = resize(img, (28, 28))\n",
    "    img = img.astype(np.float32)/255\n",
    "    if len(img.shape) > 2:\n",
    "        img = np.mean(img, axis=2)\n",
    "    img = (1. - img).astype(np.float32)\n",
    "    img = np.reshape(img, (28, 28, 1))\n",
    "    return img\n",
    "\n",
    "\n"
   ]
  },
  {
   "cell_type": "code",
   "execution_count": 2,
   "metadata": {},
   "outputs": [
    {
     "output_type": "execute_result",
     "data": {
      "text/plain": [
       "(1, 150, 150, 3)"
      ]
     },
     "metadata": {},
     "execution_count": 2
    }
   ],
   "source": [
    "# img_fpath = sys.argv[1]\n",
    "img_fpath = '/home/kigor/Documents/DataScience/TF_Serving/cat.2001.jpg'\n",
    "img = Image.open(img_fpath)\n",
    "inp = np.array(img.resize((150,150)))[np.newaxis, ...] / 255.\n",
    "inp.shape\n",
    "# img = np.array(img, dtype=np.uint8)\n",
    "# img.shape"
   ]
  },
  {
   "cell_type": "code",
   "execution_count": 6,
   "metadata": {},
   "outputs": [
    {
     "output_type": "stream",
     "name": "stdout",
     "text": [
      "cat\n"
     ]
    }
   ],
   "source": [
    "# Подготовка данных для HTTP запроса\n",
    "request_data = json.dumps({\n",
    "    \"signature_name\": \"serving_default\",\n",
    "    \"instances\": inp.tolist()\n",
    "})\n",
    "headers = {\"content-type\": \"application/json\"}\n",
    "\n",
    "# HTTP запрос на сервер\n",
    "json_response = requests.post(\n",
    "    'http://localhost:8501/v1/models/saved_model/versions/1:predict',\n",
    "    data=request_data, headers=headers)\n",
    "\n",
    "# Обработка JSON ответа\n",
    "predictions = json.loads(json_response.text)\n",
    "labels = {0: 'cat', 1: 'dog'}\n",
    "pred = 1 if predictions['predictions'][0][0] >= 0.5 else 0\n",
    "print(labels[pred])\n",
    "\n",
    "# digits = []\n",
    "# for p in predictions:\n",
    "#     digits.append(np.argmax(p))"
   ]
  },
  {
   "cell_type": "code",
   "execution_count": 4,
   "metadata": {},
   "outputs": [
    {
     "output_type": "execute_result",
     "data": {
      "text/plain": [
       "{'predictions': [[0.108779401]]}"
      ]
     },
     "metadata": {},
     "execution_count": 4
    }
   ],
   "source": [
    "predictions"
   ]
  },
  {
   "cell_type": "code",
   "execution_count": null,
   "metadata": {},
   "outputs": [],
   "source": []
  }
 ]
}